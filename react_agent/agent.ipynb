{
 "cells": [
  {
   "cell_type": "code",
   "execution_count": 21,
   "metadata": {},
   "outputs": [
    {
     "data": {
      "text/plain": [
       "True"
      ]
     },
     "execution_count": 21,
     "metadata": {},
     "output_type": "execute_result"
    }
   ],
   "source": [
    "import html\n",
    "import re\n",
    "import httpx\n",
    "from google import genai\n",
    "import os\n",
    "from dotenv import load_dotenv\n",
    "\n",
    "load_dotenv()"
   ]
  },
  {
   "cell_type": "code",
   "execution_count": 4,
   "metadata": {},
   "outputs": [],
   "source": [
    "def get_summary(q):\n",
    "    \"\"\"Fetches a short summary from Wikipedia based on the search term.\"\"\"\n",
    "    response = httpx.get(\"https://en.wikipedia.org/w/api.php\", params={\n",
    "        \"action\": \"query\",\n",
    "        \"list\": \"search\",\n",
    "        \"srsearch\": q,\n",
    "        \"format\": \"json\"\n",
    "    })\n",
    "\n",
    "    raw_snippet = response.json()[\"query\"][\"search\"][0][\"snippet\"]\n",
    "\n",
    "    # Remove HTML tags\n",
    "    clean_snippet = re.sub(r'<[^>]+>', '', raw_snippet)\n",
    "\n",
    "    # Unescape HTML entities (e.g., &quot; → \", &amp; → &)\n",
    "    text_snippet = html.unescape(clean_snippet)\n",
    "\n",
    "    return text_snippet"
   ]
  },
  {
   "cell_type": "code",
   "execution_count": 6,
   "metadata": {},
   "outputs": [],
   "source": [
    "def quick_math(expr):\n",
    "    \"\"\"Evaluates a math expression given as a string.\"\"\"\n",
    "    return eval(expr)"
   ]
  },
  {
   "cell_type": "code",
   "execution_count": 8,
   "metadata": {},
   "outputs": [],
   "source": [
    "def fetch_todo():\n",
    "    \"\"\"Fetches a placeholder to-do item from a fake API.\"\"\"\n",
    "    url = \"https://jsonplaceholder.typicode.com/todos/1\"\n",
    "    res = httpx.get(url)\n",
    "\n",
    "    if res.status_code == 200:\n",
    "        return res.json()\n",
    "    else:\n",
    "        return {\"error\": \"could not fetch\"}"
   ]
  },
  {
   "cell_type": "code",
   "execution_count": 12,
   "metadata": {},
   "outputs": [],
   "source": [
    "class Chat:\n",
    "    \"\"\"Wrapper class for Google's Gemini API\"\"\"\n",
    "    \n",
    "    def __init__(self, api_key, system=\"\"):\n",
    "        self.system = system\n",
    "        self.messages = []\n",
    "        self.genai_client = genai.Client(api_key=api_key)\n",
    "        self.chat = self.genai_client.chats.create(model=\"gemini-2.0-flash\")\n",
    "        \n",
    "        if self.system:\n",
    "            self.messages.append({\"role\": \"system\", \"content\": system})\n",
    "            self.chat.send_message(self.system)\n",
    "\n",
    "    def __call__(self, message):\n",
    "        if message:\n",
    "            self.messages.append({\"role\": \"user\", \"content\": message})\n",
    "\n",
    "        response = self.chat.send_message(message)\n",
    "        result = response.text\n",
    "\n",
    "        self.messages.append({\"role\": \"assistant\", \"content\": result})\n",
    "        return result\n"
   ]
  },
  {
   "cell_type": "code",
   "execution_count": 22,
   "metadata": {},
   "outputs": [],
   "source": [
    "test_chat = Chat(api_key=os.getenv(\"GEMINI_API_KEY\"), system=\"You are a helpful assistant.\")"
   ]
  },
  {
   "cell_type": "code",
   "execution_count": 23,
   "metadata": {},
   "outputs": [
    {
     "data": {
      "text/plain": [
       "'The capital of France is **Paris**.\\n'"
      ]
     },
     "execution_count": 23,
     "metadata": {},
     "output_type": "execute_result"
    }
   ],
   "source": [
    "test_chat(\"What is the capital of France?\")"
   ]
  },
  {
   "cell_type": "code",
   "execution_count": null,
   "metadata": {},
   "outputs": [],
   "source": [
    "class ReActAgent:\n",
    "    \"\"\"\n",
    "    A ReAct (Reasoning and Acting) agent that can use tools to answer questions.\n",
    "    \n",
    "    The agent follows the ReAct pattern:\n",
    "    1. Reason about the task\n",
    "    2. Act by calling appropriate tools\n",
    "    3. Observe the results\n",
    "    4. Repeat until the task is complete\n",
    "    \"\"\"\n",
    "    \n",
    "    def __init__(self, api_key):\n",
    "        self.memory = []\n",
    "        self.system_prompt = (\n",
    "            \"You are a helpful assistant. You can use the following tools:\\n\"\n",
    "            \"- get_summary(query: str): to search Wikipedia\\n\"\n",
    "            \"- quick_math(expr: str): to evaluate a math expression\\n\"\n",
    "            \"- fetch_todo(): to get a sample todo\\n\"\n",
    "            \"When you need to use a tool, respond with: Action: <tool_name>[<input>]\\n\"\n",
    "            \"Otherwise, respond normally as the assistant.\\n\"\n",
    "        )\n",
    "        \n",
    "        self.chat = Chat(api_key, system=self.system_prompt)\n",
    "\n",
    "    def __call__(self, message):\n",
    "        \"\"\"Process a user message and return a response, using tools if necessary.\"\"\"\n",
    "        full_input = \"\\n\".join(self.memory + [f\"User: {message}\"])\n",
    "        \n",
    "        response = self.chat(full_input)\n",
    "        \n",
    "        self.memory.append(f\"User: {message}\")\n",
    "        self.memory.append(f\"Assistant: {response}\")\n",
    "\n",
    "        # Check if the response contains a tool invocation\n",
    "        if response.startswith(\"Action:\"):\n",
    "            tool_call = re.match(r'Action:\\s*(\\w+)\\[(.*?)\\]', response)\n",
    "            if not tool_call:\n",
    "                return \"Invalid tool format.\"\n",
    "\n",
    "            tool_name, tool_arg = tool_call.groups()\n",
    "            result = self.invoke_tool(tool_name, tool_arg.strip())\n",
    "            \n",
    "            self.memory.append(f\"Observation: {result}\")\n",
    "            \n",
    "            # Recursive call to process the tool result\n",
    "            return self(f\"Observation: {result}\")\n",
    "        else:\n",
    "            return response\n",
    "\n",
    "    def invoke_tool(self, name, arg):\n",
    "        \"\"\"Execute a tool with the given argument.\"\"\"\n",
    "        try:\n",
    "            if name == \"get_summary\":\n",
    "                return get_summary(arg)\n",
    "            elif name == \"quick_math\":\n",
    "                return quick_math(arg)\n",
    "            elif name == \"fetch_todo\":\n",
    "                return fetch_todo([])\n",
    "            else:\n",
    "                return f\"Unknown tool: {name}\"\n",
    "        except Exception as e:\n",
    "            return f\"Error executing {name}: {str(e)}\"\n"
   ]
  },
  {
   "cell_type": "code",
   "execution_count": 30,
   "metadata": {},
   "outputs": [
    {
     "name": "stdout",
     "output_type": "stream",
     "text": [
      "Welcome to the ReAct Agent! Type 'exit' to quit.\n",
      "Hello there! How can I help you today?\n",
      "\n",
      "The capital of France is Paris.\n",
      "\n",
      "The answer to 2 + 2 is 4.\n",
      "\n"
     ]
    }
   ],
   "source": [
    "def main():\n",
    "    API_KEY = os.getenv(\"GEMINI_API_KEY\")  \n",
    "    agent = ReActAgent(API_KEY)\n",
    "    \n",
    "    print(\"Welcome to the ReAct Agent! Type 'exit' to quit.\")\n",
    "    print(agent(\"Hello!\"))\n",
    "    \n",
    "    print(agent(\"What is the capital of France?\"))\n",
    "    print(agent(\"What is 2 + 2?\"))\n",
    "    \n",
    "\n",
    "\n",
    "\n",
    "if __name__ == \"__main__\":\n",
    "    main()"
   ]
  }
 ],
 "metadata": {
  "kernelspec": {
   "display_name": "venv",
   "language": "python",
   "name": "python3"
  },
  "language_info": {
   "codemirror_mode": {
    "name": "ipython",
    "version": 3
   },
   "file_extension": ".py",
   "mimetype": "text/x-python",
   "name": "python",
   "nbconvert_exporter": "python",
   "pygments_lexer": "ipython3",
   "version": "3.13.5"
  }
 },
 "nbformat": 4,
 "nbformat_minor": 2
}
